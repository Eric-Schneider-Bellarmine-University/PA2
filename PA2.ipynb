{
 "cells": [
  {
   "cell_type": "markdown",
   "id": "dc131448",
   "metadata": {},
   "source": [
    "# Programming Assignment 2\n",
    "### Eric Schneider\n",
    "##### Version 1\n",
    "##### CS-150 Fall 2021 Semester"
   ]
  },
  {
   "cell_type": "markdown",
   "id": "0e3140ec",
   "metadata": {},
   "source": [
    "### A. Write a Python program that prints number from 0 to 100 (using a for structure and the range() function) with each number of line by itself. For any number that is a multiple of 3 (except 0 and 3), print an asterisk next to it."
   ]
  },
  {
   "cell_type": "code",
   "execution_count": 2,
   "id": "1be5ced5",
   "metadata": {},
   "outputs": [
    {
     "name": "stdout",
     "output_type": "stream",
     "text": [
      "0\n",
      "1\n",
      "2\n",
      "3\n",
      "4\n",
      "5\n",
      "6 *\n",
      "7\n",
      "8\n",
      "9 *\n",
      "10\n",
      "11\n",
      "12 *\n",
      "13\n",
      "14\n",
      "15 *\n",
      "16\n",
      "17\n",
      "18 *\n",
      "19\n",
      "20\n",
      "21 *\n",
      "22\n",
      "23\n",
      "24 *\n",
      "25\n",
      "26\n",
      "27 *\n",
      "28\n",
      "29\n",
      "30 *\n",
      "31\n",
      "32\n",
      "33 *\n",
      "34\n",
      "35\n",
      "36 *\n",
      "37\n",
      "38\n",
      "39 *\n",
      "40\n",
      "41\n",
      "42 *\n",
      "43\n",
      "44\n",
      "45 *\n",
      "46\n",
      "47\n",
      "48 *\n",
      "49\n",
      "50\n",
      "51 *\n",
      "52\n",
      "53\n",
      "54 *\n",
      "55\n",
      "56\n",
      "57 *\n",
      "58\n",
      "59\n",
      "60 *\n",
      "61\n",
      "62\n",
      "63 *\n",
      "64\n",
      "65\n",
      "66 *\n",
      "67\n",
      "68\n",
      "69 *\n",
      "70\n",
      "71\n",
      "72 *\n",
      "73\n",
      "74\n",
      "75 *\n",
      "76\n",
      "77\n",
      "78 *\n",
      "79\n",
      "80\n",
      "81 *\n",
      "82\n",
      "83\n",
      "84 *\n",
      "85\n",
      "86\n",
      "87 *\n",
      "88\n",
      "89\n",
      "90 *\n",
      "91\n",
      "92\n",
      "93 *\n",
      "94\n",
      "95\n",
      "96 *\n",
      "97\n",
      "98\n",
      "99 *\n"
     ]
    }
   ],
   "source": [
    "for numbers in range(100):\n",
    "    print(numbers,end=' *\\n' if numbers%3==0 and numbers>3 else '\\n')"
   ]
  },
  {
   "cell_type": "markdown",
   "id": "75142735",
   "metadata": {},
   "source": [
    "### B. Write a Python program that will evaluate if a value that represents an age falls into the following categories: minor(<18), adult(18-64), senior citizen(>=65). Your program should prompt for the age in a loop. If the user enters a zero (0), the program should stop prompting the user. Hint: You’ll use the input() function for this problem."
   ]
  },
  {
   "cell_type": "code",
   "execution_count": 5,
   "id": "f02c00da",
   "metadata": {
    "scrolled": true
   },
   "outputs": [
    {
     "name": "stdout",
     "output_type": "stream",
     "text": [
      "Please enter the age of the subject. 5\n",
      "Subject is a Minor.\n",
      "Please enter the age of the subject. 18\n",
      "Subject is an Adult.\n",
      "Please enter the age of the subject. 65\n",
      "Subject is a Senior Citizen\n",
      "Please enter the age of the subject. 23\n",
      "Subject is an Adult.\n",
      "Please enter the age of the subject. 14\n",
      "Subject is a Minor.\n",
      "Please enter the age of the subject. 92\n",
      "Subject is a Senior Citizen\n",
      "Please enter the age of the subject. 0\n"
     ]
    }
   ],
   "source": [
    "while True:\n",
    "    age=int(input('Please enter the age of the subject. '))\n",
    "    if age<=0:\n",
    "        break\n",
    "    elif age<18:\n",
    "        print('Subject is a Minor.')\n",
    "    elif age<65:\n",
    "        print('Subject is an Adult.')\n",
    "    else:\n",
    "        print('Subject is a Senior Citizen')"
   ]
  },
  {
   "cell_type": "markdown",
   "id": "f591f2f0",
   "metadata": {},
   "source": [
    "### C. Rewrite the program for Part b so that your input comes from a list of numbers (e.g. [65,78,34,56,12,9,43,67]). In this version of the program, include the age in the output."
   ]
  },
  {
   "cell_type": "code",
   "execution_count": 7,
   "id": "c7a32f0a",
   "metadata": {},
   "outputs": [
    {
     "name": "stdout",
     "output_type": "stream",
     "text": [
      "65: Subject is a Senior Citizen\n",
      "78: Subject is a Senior Citizen\n",
      "34: Subject is an Adult.\n",
      "56: Subject is an Adult.\n",
      "12: Subject is a Minor.\n",
      "9: Subject is a Minor.\n",
      "43: Subject is an Adult.\n",
      "67: Subject is a Senior Citizen\n"
     ]
    }
   ],
   "source": [
    "age=[65,78,34,56,12,9,43,67]\n",
    "for ages in age:\n",
    "    print(f'{ages}:',end=' ')\n",
    "    if ages<18:\n",
    "        print('Subject is a Minor.')\n",
    "    elif ages<65:\n",
    "        print('Subject is an Adult.')\n",
    "    else:\n",
    "        print('Subject is a Senior Citizen.')"
   ]
  },
  {
   "cell_type": "code",
   "execution_count": null,
   "id": "3c04b3cf",
   "metadata": {},
   "outputs": [],
   "source": []
  }
 ],
 "metadata": {
  "kernelspec": {
   "display_name": "Python 3",
   "language": "python",
   "name": "python3"
  },
  "language_info": {
   "codemirror_mode": {
    "name": "ipython",
    "version": 3
   },
   "file_extension": ".py",
   "mimetype": "text/x-python",
   "name": "python",
   "nbconvert_exporter": "python",
   "pygments_lexer": "ipython3",
   "version": "3.8.8"
  }
 },
 "nbformat": 4,
 "nbformat_minor": 5
}
